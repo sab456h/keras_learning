{
  "nbformat": 4,
  "nbformat_minor": 0,
  "metadata": {
    "colab": {
      "name": "keras_sample1.ipynb",
      "version": "0.3.2",
      "provenance": [],
      "include_colab_link": true
    },
    "kernelspec": {
      "name": "python3",
      "display_name": "Python 3"
    },
    "accelerator": "GPU"
  },
  "cells": [
    {
      "cell_type": "markdown",
      "metadata": {
        "id": "view-in-github",
        "colab_type": "text"
      },
      "source": [
        "<a href=\"https://colab.research.google.com/github/sab456h/keras_learning/blob/master/keras_sample1.ipynb\" target=\"_parent\"><img src=\"https://colab.research.google.com/assets/colab-badge.svg\" alt=\"Open In Colab\"/></a>"
      ]
    },
    {
      "metadata": {
        "id": "iKQsZGGLWvF6",
        "colab_type": "code",
        "colab": {}
      },
      "cell_type": "code",
      "source": [
        "from __future__ import print_function\n",
        "import numpy as np\n",
        "from keras.datasets import mnist \n",
        "from keras.models import Sequential\n",
        "from keras.layers import Dense,Activation\n",
        "from keras.optimizers import SGD,RMSprop,Adam\n",
        "from keras.utils import np_utils\n",
        "from keras import regularizers"
      ],
      "execution_count": 0,
      "outputs": []
    },
    {
      "metadata": {
        "id": "KPzaFKoSXa3-",
        "colab_type": "code",
        "colab": {}
      },
      "cell_type": "code",
      "source": [
        "np.random.seed(1671)"
      ],
      "execution_count": 0,
      "outputs": []
    },
    {
      "metadata": {
        "id": "XIK_JWzOX0KW",
        "colab_type": "code",
        "colab": {}
      },
      "cell_type": "code",
      "source": [
        "NB_EPOCH = 20\n",
        "BATCH_SIZE=128\n",
        "VERBOSE = 1 \n",
        "NB_CLASSES = 10\n",
        "OPTIMIZER = RMSprop()\n",
        "N_HIDDEN =128\n",
        "VALIDATION_SPLIT=0.2\n"
      ],
      "execution_count": 0,
      "outputs": []
    },
    {
      "metadata": {
        "id": "PA-ipZuqYKgJ",
        "colab_type": "code",
        "colab": {}
      },
      "cell_type": "code",
      "source": [
        "(X_train,y_train),(X_test,y_test) = mnist.load_data()\n",
        "RESHAPED=784"
      ],
      "execution_count": 0,
      "outputs": []
    },
    {
      "metadata": {
        "id": "Etwi-MukYaEF",
        "colab_type": "code",
        "colab": {}
      },
      "cell_type": "code",
      "source": [
        "X_train = X_train.reshape(60000,RESHAPED)\n",
        "X_test = X_test.reshape(10000,RESHAPED)\n",
        "X_train = X_train.astype(\"float32\")\n",
        "X_test = X_test.astype(\"float32\")"
      ],
      "execution_count": 0,
      "outputs": []
    },
    {
      "metadata": {
        "id": "SU02I3mOZAx9",
        "colab_type": "code",
        "colab": {
          "base_uri": "https://localhost:8080/",
          "height": 51
        },
        "outputId": "84e149d4-5d04-4514-9214-1463ebe17b18"
      },
      "cell_type": "code",
      "source": [
        "X_train /= 255\n",
        "X_test /= 255\n",
        "print(X_train.shape[0],\"train_samples\")\n",
        "print(X_test.shape[0],\"test_samples\")\n"
      ],
      "execution_count": 10,
      "outputs": [
        {
          "output_type": "stream",
          "text": [
            "60000 train_samples\n",
            "10000 test_samples\n"
          ],
          "name": "stdout"
        }
      ]
    },
    {
      "metadata": {
        "id": "zTKFIY2EZWNn",
        "colab_type": "code",
        "colab": {}
      },
      "cell_type": "code",
      "source": [
        "Y_train = np_utils.to_categorical(y_train,NB_CLASSES)\n",
        "Y_test = np_utils.to_categorical(y_test,NB_CLASSES)"
      ],
      "execution_count": 0,
      "outputs": []
    },
    {
      "metadata": {
        "id": "6mH2my8fZmfK",
        "colab_type": "code",
        "colab": {
          "base_uri": "https://localhost:8080/",
          "height": 204
        },
        "outputId": "090f766d-7cb4-4dd9-fa30-08fd3069bf7c"
      },
      "cell_type": "code",
      "source": [
        "model = Sequential()\n",
        "model.add(Dense(NB_CLASSES,input_shape=(RESHAPED,),kernel_regularizer=regularizers.l2(0.01)))\n",
        "model.add(Activation('softmax'))\n",
        "model.summary()"
      ],
      "execution_count": 25,
      "outputs": [
        {
          "output_type": "stream",
          "text": [
            "_________________________________________________________________\n",
            "Layer (type)                 Output Shape              Param #   \n",
            "=================================================================\n",
            "dense_3 (Dense)              (None, 10)                7850      \n",
            "_________________________________________________________________\n",
            "activation_3 (Activation)    (None, 10)                0         \n",
            "=================================================================\n",
            "Total params: 7,850\n",
            "Trainable params: 7,850\n",
            "Non-trainable params: 0\n",
            "_________________________________________________________________\n"
          ],
          "name": "stdout"
        }
      ]
    },
    {
      "metadata": {
        "id": "LC70-ZVSZ28N",
        "colab_type": "code",
        "colab": {}
      },
      "cell_type": "code",
      "source": [
        "model.compile(loss='categorical_crossentropy',optimizer=OPTIMIZER,metrics=['accuracy'])"
      ],
      "execution_count": 0,
      "outputs": []
    },
    {
      "metadata": {
        "id": "_RjfyeAhaMPO",
        "colab_type": "code",
        "colab": {
          "base_uri": "https://localhost:8080/",
          "height": 731
        },
        "outputId": "9ad71f0e-73e8-4a40-f181-16107405182b"
      },
      "cell_type": "code",
      "source": [
        "model.fit(X_train,Y_train,batch_size=BATCH_SIZE,epochs=NB_EPOCH,verbose=VERBOSE,validation_split=VALIDATION_SPLIT)"
      ],
      "execution_count": 28,
      "outputs": [
        {
          "output_type": "stream",
          "text": [
            "Train on 48000 samples, validate on 12000 samples\n",
            "Epoch 1/20\n",
            "48000/48000 [==============================] - 1s 20us/step - loss: 0.6745 - acc: 0.8884 - val_loss: 0.6438 - val_acc: 0.9007\n",
            "Epoch 2/20\n",
            "48000/48000 [==============================] - 1s 20us/step - loss: 0.6743 - acc: 0.8884 - val_loss: 0.6449 - val_acc: 0.8968\n",
            "Epoch 3/20\n",
            "48000/48000 [==============================] - 1s 20us/step - loss: 0.6741 - acc: 0.8877 - val_loss: 0.6432 - val_acc: 0.8985\n",
            "Epoch 4/20\n",
            "48000/48000 [==============================] - 1s 19us/step - loss: 0.6738 - acc: 0.8880 - val_loss: 0.6446 - val_acc: 0.8973\n",
            "Epoch 5/20\n",
            "48000/48000 [==============================] - 1s 20us/step - loss: 0.6741 - acc: 0.8876 - val_loss: 0.6442 - val_acc: 0.8986\n",
            "Epoch 6/20\n",
            "48000/48000 [==============================] - 1s 19us/step - loss: 0.6741 - acc: 0.8871 - val_loss: 0.6465 - val_acc: 0.8955\n",
            "Epoch 7/20\n",
            "48000/48000 [==============================] - 1s 19us/step - loss: 0.6741 - acc: 0.8873 - val_loss: 0.6450 - val_acc: 0.8995\n",
            "Epoch 8/20\n",
            "48000/48000 [==============================] - 1s 19us/step - loss: 0.6740 - acc: 0.8881 - val_loss: 0.6483 - val_acc: 0.8963\n",
            "Epoch 9/20\n",
            "48000/48000 [==============================] - 1s 20us/step - loss: 0.6743 - acc: 0.8877 - val_loss: 0.6457 - val_acc: 0.8993\n",
            "Epoch 10/20\n",
            "48000/48000 [==============================] - 1s 20us/step - loss: 0.6740 - acc: 0.8878 - val_loss: 0.6450 - val_acc: 0.8980\n",
            "Epoch 11/20\n",
            "48000/48000 [==============================] - 1s 19us/step - loss: 0.6741 - acc: 0.8868 - val_loss: 0.6445 - val_acc: 0.8990\n",
            "Epoch 12/20\n",
            "48000/48000 [==============================] - 1s 20us/step - loss: 0.6742 - acc: 0.8881 - val_loss: 0.6440 - val_acc: 0.8965\n",
            "Epoch 13/20\n",
            "48000/48000 [==============================] - 1s 20us/step - loss: 0.6740 - acc: 0.8881 - val_loss: 0.6430 - val_acc: 0.8982\n",
            "Epoch 14/20\n",
            "48000/48000 [==============================] - 1s 20us/step - loss: 0.6740 - acc: 0.8881 - val_loss: 0.6434 - val_acc: 0.8984\n",
            "Epoch 15/20\n",
            "48000/48000 [==============================] - 1s 20us/step - loss: 0.6739 - acc: 0.8881 - val_loss: 0.6448 - val_acc: 0.9004\n",
            "Epoch 16/20\n",
            "48000/48000 [==============================] - 1s 20us/step - loss: 0.6740 - acc: 0.8869 - val_loss: 0.6441 - val_acc: 0.8986\n",
            "Epoch 17/20\n",
            "48000/48000 [==============================] - 1s 20us/step - loss: 0.6740 - acc: 0.8872 - val_loss: 0.6445 - val_acc: 0.8985\n",
            "Epoch 18/20\n",
            "48000/48000 [==============================] - 1s 20us/step - loss: 0.6738 - acc: 0.8881 - val_loss: 0.6451 - val_acc: 0.8983\n",
            "Epoch 19/20\n",
            "48000/48000 [==============================] - 1s 19us/step - loss: 0.6736 - acc: 0.8879 - val_loss: 0.6457 - val_acc: 0.8955\n",
            "Epoch 20/20\n",
            "48000/48000 [==============================] - 1s 19us/step - loss: 0.6740 - acc: 0.8874 - val_loss: 0.6443 - val_acc: 0.9000\n"
          ],
          "name": "stdout"
        },
        {
          "output_type": "execute_result",
          "data": {
            "text/plain": [
              "<keras.callbacks.History at 0x7f3179f37dd8>"
            ]
          },
          "metadata": {
            "tags": []
          },
          "execution_count": 28
        }
      ]
    },
    {
      "metadata": {
        "id": "_CcYMTojaefh",
        "colab_type": "code",
        "colab": {
          "base_uri": "https://localhost:8080/",
          "height": 68
        },
        "outputId": "b8f3312c-083b-45b9-951e-4c5de09a01e6"
      },
      "cell_type": "code",
      "source": [
        "score = model.evaluate(X_test,Y_test,verbose=VERBOSE)\n",
        "print(\"Test_score\",score[0])\n",
        "print(\"Test_accuracy\",score[1])"
      ],
      "execution_count": 29,
      "outputs": [
        {
          "output_type": "stream",
          "text": [
            "10000/10000 [==============================] - 0s 23us/step\n",
            "Test_score 0.6453590639114379\n",
            "Test_accuracy 0.8964\n"
          ],
          "name": "stdout"
        }
      ]
    },
    {
      "metadata": {
        "id": "hORwfmrsfTx1",
        "colab_type": "code",
        "colab": {}
      },
      "cell_type": "code",
      "source": [
        ""
      ],
      "execution_count": 0,
      "outputs": []
    },
    {
      "metadata": {
        "id": "LpnsHZxtg3Oh",
        "colab_type": "code",
        "colab": {}
      },
      "cell_type": "code",
      "source": [
        ""
      ],
      "execution_count": 0,
      "outputs": []
    },
    {
      "metadata": {
        "id": "KyR-VvRCgnjl",
        "colab_type": "code",
        "colab": {}
      },
      "cell_type": "code",
      "source": [
        ""
      ],
      "execution_count": 0,
      "outputs": []
    }
  ]
}